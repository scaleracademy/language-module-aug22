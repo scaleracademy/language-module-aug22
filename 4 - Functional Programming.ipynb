{
 "cells": [
  {
   "cell_type": "markdown",
   "id": "2c7c21de",
   "metadata": {},
   "source": [
    "## Lambda Functions"
   ]
  },
  {
   "cell_type": "code",
   "execution_count": 1,
   "id": "a80721b5",
   "metadata": {},
   "outputs": [],
   "source": [
    "def square_number(n):\n",
    "    return n**2"
   ]
  },
  {
   "cell_type": "code",
   "execution_count": 2,
   "id": "2dd2b189",
   "metadata": {},
   "outputs": [],
   "source": [
    "sqaure_number = lambda n: n**2"
   ]
  },
  {
   "cell_type": "code",
   "execution_count": 4,
   "id": "f04758cd",
   "metadata": {},
   "outputs": [
    {
     "data": {
      "text/plain": [
       "function"
      ]
     },
     "execution_count": 4,
     "metadata": {},
     "output_type": "execute_result"
    }
   ],
   "source": [
    "type(square_number)"
   ]
  },
  {
   "cell_type": "code",
   "execution_count": 5,
   "id": "e36814c8",
   "metadata": {},
   "outputs": [
    {
     "data": {
      "text/plain": [
       "8"
      ]
     },
     "execution_count": 5,
     "metadata": {},
     "output_type": "execute_result"
    }
   ],
   "source": [
    "(lambda x: x**3)(2)"
   ]
  },
  {
   "cell_type": "code",
   "execution_count": 6,
   "id": "76819f9b",
   "metadata": {},
   "outputs": [
    {
     "data": {
      "text/plain": [
       "7"
      ]
     },
     "execution_count": 6,
     "metadata": {},
     "output_type": "execute_result"
    }
   ],
   "source": [
    "(lambda x,y: x if x > y else y)(5,7)"
   ]
  },
  {
   "cell_type": "code",
   "execution_count": 7,
   "id": "0c61e316",
   "metadata": {},
   "outputs": [],
   "source": [
    "a = [3,4,5,1,2,8,7,6]"
   ]
  },
  {
   "cell_type": "code",
   "execution_count": 8,
   "id": "f90684f1",
   "metadata": {},
   "outputs": [],
   "source": [
    "_a = sorted(a)"
   ]
  },
  {
   "cell_type": "code",
   "execution_count": 9,
   "id": "ca7352bd",
   "metadata": {},
   "outputs": [
    {
     "data": {
      "text/plain": [
       "[1, 2, 3, 4, 5, 6, 7, 8]"
      ]
     },
     "execution_count": 9,
     "metadata": {},
     "output_type": "execute_result"
    }
   ],
   "source": [
    "_a"
   ]
  },
  {
   "cell_type": "code",
   "execution_count": 12,
   "id": "6d74f448",
   "metadata": {},
   "outputs": [
    {
     "ename": "TypeError",
     "evalue": "'>' not supported between instances of 'dict' and 'dict'",
     "output_type": "error",
     "traceback": [
      "\u001b[0;31m---------------------------------------------------------------------------\u001b[0m",
      "\u001b[0;31mTypeError\u001b[0m                                 Traceback (most recent call last)",
      "\u001b[0;32m/var/folders/nn/c52y0d3j0gq59dpsswchkt2r0000gn/T/ipykernel_36736/675660041.py\u001b[0m in \u001b[0;36m<module>\u001b[0;34m\u001b[0m\n\u001b[0;32m----> 1\u001b[0;31m \u001b[0;34m{\u001b[0m\u001b[0;34m\"random\"\u001b[0m\u001b[0;34m:\u001b[0m \u001b[0;34m\"value\"\u001b[0m\u001b[0;34m}\u001b[0m \u001b[0;34m>\u001b[0m \u001b[0;34m{\u001b[0m\u001b[0;34m\"random\"\u001b[0m\u001b[0;34m:\u001b[0m \u001b[0;34m\"value2\"\u001b[0m\u001b[0;34m}\u001b[0m\u001b[0;34m\u001b[0m\u001b[0;34m\u001b[0m\u001b[0m\n\u001b[0m",
      "\u001b[0;31mTypeError\u001b[0m: '>' not supported between instances of 'dict' and 'dict'"
     ]
    }
   ],
   "source": [
    "{\"random\": \"value\"} > {\"random\": \"value2\"}"
   ]
  },
  {
   "cell_type": "code",
   "execution_count": 10,
   "id": "a9f1ee7f",
   "metadata": {},
   "outputs": [],
   "source": [
    "students = [\n",
    "    {\"name\": \"A\", \"marks\": 50 },\n",
    "    {\"name\": \"B\", \"marks\": 90 },\n",
    "    {\"name\": \"C\", \"marks\": 80 },\n",
    "    {\"name\": \"D\", \"marks\": 40 },\n",
    "    {\"name\": \"E\", \"marks\": 60 },\n",
    "]"
   ]
  },
  {
   "cell_type": "code",
   "execution_count": 11,
   "id": "4ca16d80",
   "metadata": {},
   "outputs": [
    {
     "ename": "TypeError",
     "evalue": "'<' not supported between instances of 'dict' and 'dict'",
     "output_type": "error",
     "traceback": [
      "\u001b[0;31m---------------------------------------------------------------------------\u001b[0m",
      "\u001b[0;31mTypeError\u001b[0m                                 Traceback (most recent call last)",
      "\u001b[0;32m/var/folders/nn/c52y0d3j0gq59dpsswchkt2r0000gn/T/ipykernel_36736/645918957.py\u001b[0m in \u001b[0;36m<module>\u001b[0;34m\u001b[0m\n\u001b[0;32m----> 1\u001b[0;31m \u001b[0msorted\u001b[0m\u001b[0;34m(\u001b[0m\u001b[0mstudents\u001b[0m\u001b[0;34m)\u001b[0m\u001b[0;34m\u001b[0m\u001b[0;34m\u001b[0m\u001b[0m\n\u001b[0m",
      "\u001b[0;31mTypeError\u001b[0m: '<' not supported between instances of 'dict' and 'dict'"
     ]
    }
   ],
   "source": [
    "sorted(students)"
   ]
  },
  {
   "cell_type": "code",
   "execution_count": 14,
   "id": "427333fd",
   "metadata": {},
   "outputs": [
    {
     "data": {
      "text/plain": [
       "[{'name': 'D', 'marks': 40},\n",
       " {'name': 'A', 'marks': 50},\n",
       " {'name': 'E', 'marks': 60},\n",
       " {'name': 'C', 'marks': 80},\n",
       " {'name': 'B', 'marks': 90}]"
      ]
     },
     "execution_count": 14,
     "metadata": {},
     "output_type": "execute_result"
    }
   ],
   "source": [
    "sorted(students, key = lambda x: x[\"marks\"])"
   ]
  },
  {
   "cell_type": "markdown",
   "id": "99026967",
   "metadata": {},
   "source": [
    "## Higher Order Functions"
   ]
  },
  {
   "cell_type": "code",
   "execution_count": 15,
   "id": "d8bba785",
   "metadata": {},
   "outputs": [],
   "source": [
    "def gen_exp(n):\n",
    "    def exp(x):\n",
    "        return x**n\n",
    "    \n",
    "    return exp"
   ]
  },
  {
   "cell_type": "code",
   "execution_count": 16,
   "id": "ce1e06ee",
   "metadata": {},
   "outputs": [],
   "source": [
    "exp_5 = gen_exp(5)"
   ]
  },
  {
   "cell_type": "code",
   "execution_count": 17,
   "id": "dca37dd1",
   "metadata": {},
   "outputs": [],
   "source": [
    "exp_2 = gen_exp(2)"
   ]
  },
  {
   "cell_type": "code",
   "execution_count": 18,
   "id": "4d83a36c",
   "metadata": {},
   "outputs": [
    {
     "data": {
      "text/plain": [
       "4"
      ]
     },
     "execution_count": 18,
     "metadata": {},
     "output_type": "execute_result"
    }
   ],
   "source": [
    "exp_2(2)"
   ]
  },
  {
   "cell_type": "code",
   "execution_count": 19,
   "id": "9c2a548d",
   "metadata": {},
   "outputs": [
    {
     "data": {
      "text/plain": [
       "32"
      ]
     },
     "execution_count": 19,
     "metadata": {},
     "output_type": "execute_result"
    }
   ],
   "source": [
    "exp_5(2)"
   ]
  },
  {
   "cell_type": "markdown",
   "id": "0c081e45",
   "metadata": {},
   "source": [
    "## Decorators"
   ]
  },
  {
   "cell_type": "code",
   "execution_count": 26,
   "id": "f904adf4",
   "metadata": {},
   "outputs": [],
   "source": [
    "def say_hello():\n",
    "    print(\"-\"*20) # something before\n",
    "    print(\"Hello!\")\n",
    "    print(\"-\"*20) # something after\n",
    "\n",
    "def say_bye():\n",
    "    print(\"Bye!\")"
   ]
  },
  {
   "cell_type": "code",
   "execution_count": 27,
   "id": "c42d64c4",
   "metadata": {},
   "outputs": [
    {
     "name": "stdout",
     "output_type": "stream",
     "text": [
      "--------------------\n",
      "Hello!\n",
      "--------------------\n"
     ]
    }
   ],
   "source": [
    "say_hello()"
   ]
  },
  {
   "cell_type": "code",
   "execution_count": 28,
   "id": "2ceda632",
   "metadata": {},
   "outputs": [
    {
     "name": "stdout",
     "output_type": "stream",
     "text": [
      "Bye!\n"
     ]
    }
   ],
   "source": [
    "say_bye()"
   ]
  },
  {
   "cell_type": "code",
   "execution_count": 29,
   "id": "83f08b65",
   "metadata": {},
   "outputs": [],
   "source": [
    "def pretty(f):\n",
    "    def random():\n",
    "        print(\"-\"*20) # something before\n",
    "        f()\n",
    "        print(\"-\"*20) # something after\n",
    "        \n",
    "    return random"
   ]
  },
  {
   "cell_type": "code",
   "execution_count": 30,
   "id": "de9fe210",
   "metadata": {},
   "outputs": [],
   "source": [
    "say_bye = pretty(say_bye)"
   ]
  },
  {
   "cell_type": "code",
   "execution_count": 31,
   "id": "f0797805",
   "metadata": {},
   "outputs": [
    {
     "name": "stdout",
     "output_type": "stream",
     "text": [
      "--------------------\n",
      "Bye!\n",
      "--------------------\n"
     ]
    }
   ],
   "source": [
    "say_bye()"
   ]
  },
  {
   "cell_type": "code",
   "execution_count": 32,
   "id": "696188d6",
   "metadata": {},
   "outputs": [],
   "source": [
    "@pretty\n",
    "def say_whatsup():\n",
    "    print(\"Whatsup?\")"
   ]
  },
  {
   "cell_type": "code",
   "execution_count": 33,
   "id": "0900e394",
   "metadata": {},
   "outputs": [
    {
     "name": "stdout",
     "output_type": "stream",
     "text": [
      "--------------------\n",
      "Whatsup?\n",
      "--------------------\n"
     ]
    }
   ],
   "source": [
    "say_whatsup()"
   ]
  },
  {
   "cell_type": "markdown",
   "id": "5dcd4b00",
   "metadata": {},
   "source": [
    "## Map, Filter, Reduce and Zip"
   ]
  },
  {
   "cell_type": "code",
   "execution_count": 34,
   "id": "abd8ab10",
   "metadata": {},
   "outputs": [],
   "source": [
    "a = [1,2,3,4]"
   ]
  },
  {
   "cell_type": "code",
   "execution_count": 36,
   "id": "5e42b6ca",
   "metadata": {},
   "outputs": [],
   "source": [
    "m = map(lambda x: x**2, a)"
   ]
  },
  {
   "cell_type": "code",
   "execution_count": 37,
   "id": "f4b53861",
   "metadata": {},
   "outputs": [
    {
     "data": {
      "text/plain": [
       "[1, 2, 3, 4]"
      ]
     },
     "execution_count": 37,
     "metadata": {},
     "output_type": "execute_result"
    }
   ],
   "source": [
    "a"
   ]
  },
  {
   "cell_type": "code",
   "execution_count": 39,
   "id": "67d59388",
   "metadata": {},
   "outputs": [
    {
     "data": {
      "text/plain": [
       "<map at 0x7f7bd0439c70>"
      ]
     },
     "execution_count": 39,
     "metadata": {},
     "output_type": "execute_result"
    }
   ],
   "source": [
    "m # generators"
   ]
  },
  {
   "cell_type": "code",
   "execution_count": 40,
   "id": "13f9882b",
   "metadata": {},
   "outputs": [],
   "source": [
    "m_list = list(m)"
   ]
  },
  {
   "cell_type": "code",
   "execution_count": 41,
   "id": "d8481d34",
   "metadata": {},
   "outputs": [
    {
     "data": {
      "text/plain": [
       "[1, 4, 9, 16]"
      ]
     },
     "execution_count": 41,
     "metadata": {},
     "output_type": "execute_result"
    }
   ],
   "source": [
    "m_list"
   ]
  },
  {
   "cell_type": "code",
   "execution_count": 42,
   "id": "68798a7d",
   "metadata": {},
   "outputs": [],
   "source": [
    "def logic(x):\n",
    "    if x % 2 == 0:\n",
    "        return x*2\n",
    "    else:\n",
    "        return 0"
   ]
  },
  {
   "cell_type": "code",
   "execution_count": 43,
   "id": "edd31109",
   "metadata": {},
   "outputs": [],
   "source": [
    "m1 = list(map(logic, a))"
   ]
  },
  {
   "cell_type": "code",
   "execution_count": 44,
   "id": "6a8dc632",
   "metadata": {},
   "outputs": [
    {
     "data": {
      "text/plain": [
       "[0, 4, 0, 8]"
      ]
     },
     "execution_count": 44,
     "metadata": {},
     "output_type": "execute_result"
    }
   ],
   "source": [
    "m1"
   ]
  },
  {
   "cell_type": "code",
   "execution_count": 45,
   "id": "8024629b",
   "metadata": {},
   "outputs": [],
   "source": [
    "A = [1,2,3,4,5]\n",
    "B = [1,2,3,4,5]"
   ]
  },
  {
   "cell_type": "code",
   "execution_count": 46,
   "id": "6d37f0b4",
   "metadata": {},
   "outputs": [],
   "source": [
    "C = list(map(lambda x,y: x+y, A, B))"
   ]
  },
  {
   "cell_type": "code",
   "execution_count": 47,
   "id": "beb545e1",
   "metadata": {},
   "outputs": [
    {
     "data": {
      "text/plain": [
       "[2, 4, 6, 8, 10]"
      ]
     },
     "execution_count": 47,
     "metadata": {},
     "output_type": "execute_result"
    }
   ],
   "source": [
    "C"
   ]
  },
  {
   "cell_type": "code",
   "execution_count": 48,
   "id": "4640fa5d",
   "metadata": {},
   "outputs": [],
   "source": [
    "a = [1,2,3,4,5]\n",
    "b = [1,2,3,4]"
   ]
  },
  {
   "cell_type": "code",
   "execution_count": 51,
   "id": "3b97909d",
   "metadata": {},
   "outputs": [],
   "source": [
    "c = list(map(lambda x,y: x + y, a, b))"
   ]
  },
  {
   "cell_type": "code",
   "execution_count": 52,
   "id": "e58b50c7",
   "metadata": {},
   "outputs": [
    {
     "data": {
      "text/plain": [
       "[2, 4, 6, 8]"
      ]
     },
     "execution_count": 52,
     "metadata": {},
     "output_type": "execute_result"
    }
   ],
   "source": [
    "c"
   ]
  },
  {
   "cell_type": "code",
   "execution_count": 53,
   "id": "aa3c09d5",
   "metadata": {},
   "outputs": [],
   "source": [
    "a = [1,5,56,78,19,90,106,78,56,19,101]"
   ]
  },
  {
   "cell_type": "code",
   "execution_count": 55,
   "id": "9db737c8",
   "metadata": {},
   "outputs": [],
   "source": [
    "b = list(filter(lambda x: x % 2 == 0, a))"
   ]
  },
  {
   "cell_type": "code",
   "execution_count": 56,
   "id": "8c2bc2e2",
   "metadata": {},
   "outputs": [
    {
     "data": {
      "text/plain": [
       "[56, 78, 90, 106, 78, 56]"
      ]
     },
     "execution_count": 56,
     "metadata": {},
     "output_type": "execute_result"
    }
   ],
   "source": [
    "b"
   ]
  },
  {
   "cell_type": "code",
   "execution_count": 61,
   "id": "89e50f41",
   "metadata": {},
   "outputs": [],
   "source": [
    "a = [1,2,3]\n",
    "b = [\"a\", \"b\", \"c\", \"d\"]"
   ]
  },
  {
   "cell_type": "code",
   "execution_count": 62,
   "id": "26c12a86",
   "metadata": {},
   "outputs": [],
   "source": [
    "c = list(zip(a,b))"
   ]
  },
  {
   "cell_type": "code",
   "execution_count": 63,
   "id": "d166da4d",
   "metadata": {},
   "outputs": [
    {
     "data": {
      "text/plain": [
       "[(1, 'a'), (2, 'b'), (3, 'c')]"
      ]
     },
     "execution_count": 63,
     "metadata": {},
     "output_type": "execute_result"
    }
   ],
   "source": [
    "c"
   ]
  },
  {
   "cell_type": "code",
   "execution_count": 64,
   "id": "0f07eb7b",
   "metadata": {},
   "outputs": [],
   "source": [
    "from functools import reduce"
   ]
  },
  {
   "cell_type": "code",
   "execution_count": 65,
   "id": "326aa096",
   "metadata": {},
   "outputs": [],
   "source": [
    "a = [1,2,3,4,5]"
   ]
  },
  {
   "cell_type": "code",
   "execution_count": 66,
   "id": "213c3c73",
   "metadata": {},
   "outputs": [],
   "source": [
    "value = reduce(lambda x, y: x + y, a)"
   ]
  },
  {
   "cell_type": "code",
   "execution_count": 67,
   "id": "c13660e0",
   "metadata": {},
   "outputs": [
    {
     "data": {
      "text/plain": [
       "15"
      ]
     },
     "execution_count": 67,
     "metadata": {},
     "output_type": "execute_result"
    }
   ],
   "source": [
    "value"
   ]
  },
  {
   "cell_type": "code",
   "execution_count": 68,
   "id": "364a1c85",
   "metadata": {},
   "outputs": [],
   "source": [
    "a = [1,5,7,8,9,10,15,18,20]"
   ]
  },
  {
   "cell_type": "code",
   "execution_count": 69,
   "id": "4c997425",
   "metadata": {},
   "outputs": [],
   "source": [
    "max_value = reduce(lambda x, y: x if x > y else y, a)"
   ]
  },
  {
   "cell_type": "code",
   "execution_count": 70,
   "id": "85ff2123",
   "metadata": {},
   "outputs": [
    {
     "data": {
      "text/plain": [
       "20"
      ]
     },
     "execution_count": 70,
     "metadata": {},
     "output_type": "execute_result"
    }
   ],
   "source": [
    "max_value"
   ]
  },
  {
   "cell_type": "markdown",
   "id": "f341581e",
   "metadata": {},
   "source": [
    "## Args and Kwargs"
   ]
  },
  {
   "cell_type": "code",
   "execution_count": 6,
   "id": "58991951",
   "metadata": {},
   "outputs": [],
   "source": [
    "def sum_numbers(a,b): # can only take 2 arguments\n",
    "    return a + b"
   ]
  },
  {
   "cell_type": "code",
   "execution_count": 7,
   "id": "5a2b8410",
   "metadata": {},
   "outputs": [
    {
     "ename": "TypeError",
     "evalue": "sum_numbers() takes 2 positional arguments but 3 were given",
     "output_type": "error",
     "traceback": [
      "\u001b[0;31m---------------------------------------------------------------------------\u001b[0m",
      "\u001b[0;31mTypeError\u001b[0m                                 Traceback (most recent call last)",
      "\u001b[0;32m/var/folders/nn/c52y0d3j0gq59dpsswchkt2r0000gn/T/ipykernel_37066/2939702355.py\u001b[0m in \u001b[0;36m<module>\u001b[0;34m\u001b[0m\n\u001b[0;32m----> 1\u001b[0;31m \u001b[0msum_numbers\u001b[0m\u001b[0;34m(\u001b[0m\u001b[0;36m5\u001b[0m\u001b[0;34m,\u001b[0m\u001b[0;36m6\u001b[0m\u001b[0;34m,\u001b[0m\u001b[0;36m7\u001b[0m\u001b[0;34m)\u001b[0m\u001b[0;34m\u001b[0m\u001b[0;34m\u001b[0m\u001b[0m\n\u001b[0m",
      "\u001b[0;31mTypeError\u001b[0m: sum_numbers() takes 2 positional arguments but 3 were given"
     ]
    }
   ],
   "source": [
    "sum_numbers(5,6,7)"
   ]
  },
  {
   "cell_type": "code",
   "execution_count": 9,
   "id": "33435f63",
   "metadata": {},
   "outputs": [],
   "source": [
    "def sum_numbers(x, y, *args): # any amount of arguments - 2 are required\n",
    "    print(args)"
   ]
  },
  {
   "cell_type": "code",
   "execution_count": 5,
   "id": "22eb697d",
   "metadata": {},
   "outputs": [
    {
     "name": "stdout",
     "output_type": "stream",
     "text": [
      "(6, 7, 8, 9, 0)\n"
     ]
    }
   ],
   "source": [
    "sum_numbers(4,5,6,7,8,9,0)"
   ]
  },
  {
   "cell_type": "code",
   "execution_count": 12,
   "id": "0a3404f9",
   "metadata": {},
   "outputs": [],
   "source": [
    "def sum_numbers(x, y, *any_variable_name):\n",
    "    return x + y + sum(any_variable_name)"
   ]
  },
  {
   "cell_type": "code",
   "execution_count": 30,
   "id": "f589154f",
   "metadata": {},
   "outputs": [
    {
     "data": {
      "text/plain": [
       "3"
      ]
     },
     "execution_count": 30,
     "metadata": {},
     "output_type": "execute_result"
    }
   ],
   "source": [
    "sum_numbers(1,2)"
   ]
  },
  {
   "cell_type": "code",
   "execution_count": 14,
   "id": "a1739693",
   "metadata": {},
   "outputs": [],
   "source": [
    "def return_something():\n",
    "    return 1,2,3,4"
   ]
  },
  {
   "cell_type": "code",
   "execution_count": 32,
   "id": "fcfa914d",
   "metadata": {},
   "outputs": [],
   "source": [
    "a, b, *c = return_something()"
   ]
  },
  {
   "cell_type": "code",
   "execution_count": 25,
   "id": "957c6982",
   "metadata": {},
   "outputs": [
    {
     "data": {
      "text/plain": [
       "1"
      ]
     },
     "execution_count": 25,
     "metadata": {},
     "output_type": "execute_result"
    }
   ],
   "source": [
    "a"
   ]
  },
  {
   "cell_type": "code",
   "execution_count": 26,
   "id": "473dd6dc",
   "metadata": {},
   "outputs": [
    {
     "data": {
      "text/plain": [
       "2"
      ]
     },
     "execution_count": 26,
     "metadata": {},
     "output_type": "execute_result"
    }
   ],
   "source": [
    "b"
   ]
  },
  {
   "cell_type": "code",
   "execution_count": 27,
   "id": "0ad9e50f",
   "metadata": {},
   "outputs": [
    {
     "data": {
      "text/plain": [
       "3"
      ]
     },
     "execution_count": 27,
     "metadata": {},
     "output_type": "execute_result"
    }
   ],
   "source": [
    "c"
   ]
  },
  {
   "cell_type": "code",
   "execution_count": 28,
   "id": "951101ef",
   "metadata": {},
   "outputs": [
    {
     "data": {
      "text/plain": [
       "4"
      ]
     },
     "execution_count": 28,
     "metadata": {},
     "output_type": "execute_result"
    }
   ],
   "source": [
    "d"
   ]
  },
  {
   "cell_type": "code",
   "execution_count": 29,
   "id": "47307054",
   "metadata": {},
   "outputs": [
    {
     "data": {
      "text/plain": [
       "[]"
      ]
     },
     "execution_count": 29,
     "metadata": {},
     "output_type": "execute_result"
    }
   ],
   "source": [
    "e"
   ]
  },
  {
   "cell_type": "code",
   "execution_count": 33,
   "id": "e145d8f0",
   "metadata": {},
   "outputs": [
    {
     "ename": "ValueError",
     "evalue": "not enough values to unpack (expected at least 5, got 4)",
     "output_type": "error",
     "traceback": [
      "\u001b[0;31m---------------------------------------------------------------------------\u001b[0m",
      "\u001b[0;31mValueError\u001b[0m                                Traceback (most recent call last)",
      "\u001b[0;32m/var/folders/nn/c52y0d3j0gq59dpsswchkt2r0000gn/T/ipykernel_37066/2349981828.py\u001b[0m in \u001b[0;36m<module>\u001b[0;34m\u001b[0m\n\u001b[0;32m----> 1\u001b[0;31m \u001b[0ma\u001b[0m\u001b[0;34m,\u001b[0m \u001b[0mb\u001b[0m\u001b[0;34m,\u001b[0m \u001b[0mc\u001b[0m\u001b[0;34m,\u001b[0m \u001b[0md\u001b[0m\u001b[0;34m,\u001b[0m \u001b[0me\u001b[0m\u001b[0;34m,\u001b[0m \u001b[0;34m*\u001b[0m\u001b[0mf\u001b[0m \u001b[0;34m=\u001b[0m \u001b[0mreturn_something\u001b[0m\u001b[0;34m(\u001b[0m\u001b[0;34m)\u001b[0m\u001b[0;34m\u001b[0m\u001b[0;34m\u001b[0m\u001b[0m\n\u001b[0m",
      "\u001b[0;31mValueError\u001b[0m: not enough values to unpack (expected at least 5, got 4)"
     ]
    }
   ],
   "source": [
    "a, b, c, d, e, *f = return_something()"
   ]
  },
  {
   "cell_type": "code",
   "execution_count": 34,
   "id": "a1c3c7ba",
   "metadata": {},
   "outputs": [],
   "source": [
    "def create_person(name, age, hobby):\n",
    "    Person = {\n",
    "        \"name\": name,\n",
    "        \"age\": age,\n",
    "        \"hobby\": hobby\n",
    "    }\n",
    "    \n",
    "    return Person"
   ]
  },
  {
   "cell_type": "code",
   "execution_count": 35,
   "id": "e9ed4ee2",
   "metadata": {},
   "outputs": [
    {
     "data": {
      "text/plain": [
       "{'name': 'Bipin', 'age': 5000, 'hobby': 'Shout when India wins!'}"
      ]
     },
     "execution_count": 35,
     "metadata": {},
     "output_type": "execute_result"
    }
   ],
   "source": [
    "create_person(\"Bipin\", 5000, \"Shout when India wins!\")"
   ]
  },
  {
   "cell_type": "code",
   "execution_count": 41,
   "id": "d483ad49",
   "metadata": {},
   "outputs": [],
   "source": [
    "def create_person(name, age, hobby, **kwargs):\n",
    "    Person = {\n",
    "        \"name\": name,\n",
    "        \"age\": age,\n",
    "        \"hobby\": hobby\n",
    "    }\n",
    "    \n",
    "    if kwargs:\n",
    "        Person.update(kwargs)\n",
    "    \n",
    "    # print(kwargs)\n",
    "    \n",
    "    return Person"
   ]
  },
  {
   "cell_type": "code",
   "execution_count": 42,
   "id": "fc13bfee",
   "metadata": {},
   "outputs": [
    {
     "data": {
      "text/plain": [
       "{'name': 'Bipin',\n",
       " 'age': 5000,\n",
       " 'hobby': 'Shout when India wins!',\n",
       " 'profession': 'engineer',\n",
       " 'height': '6ft'}"
      ]
     },
     "execution_count": 42,
     "metadata": {},
     "output_type": "execute_result"
    }
   ],
   "source": [
    "create_person(\"Bipin\", 5000, \"Shout when India wins!\", profession = \"engineer\", height = \"6ft\")"
   ]
  },
  {
   "cell_type": "code",
   "execution_count": null,
   "id": "b7f92387",
   "metadata": {},
   "outputs": [],
   "source": []
  }
 ],
 "metadata": {
  "kernelspec": {
   "display_name": "Python 3 (ipykernel)",
   "language": "python",
   "name": "python3"
  },
  "language_info": {
   "codemirror_mode": {
    "name": "ipython",
    "version": 3
   },
   "file_extension": ".py",
   "mimetype": "text/x-python",
   "name": "python",
   "nbconvert_exporter": "python",
   "pygments_lexer": "ipython3",
   "version": "3.9.5"
  }
 },
 "nbformat": 4,
 "nbformat_minor": 5
}
