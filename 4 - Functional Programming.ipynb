{
 "cells": [
  {
   "cell_type": "markdown",
   "id": "fe8bbf86",
   "metadata": {},
   "source": [
    "## Lambda Functions"
   ]
  },
  {
   "cell_type": "code",
   "execution_count": 1,
   "id": "015344ba",
   "metadata": {},
   "outputs": [],
   "source": [
    "def square_number(n):\n",
    "    return n**2"
   ]
  },
  {
   "cell_type": "code",
   "execution_count": 2,
   "id": "543d46fd",
   "metadata": {},
   "outputs": [],
   "source": [
    "sqaure_number = lambda n: n**2"
   ]
  },
  {
   "cell_type": "code",
   "execution_count": 4,
   "id": "96a78410",
   "metadata": {},
   "outputs": [
    {
     "data": {
      "text/plain": [
       "function"
      ]
     },
     "execution_count": 4,
     "metadata": {},
     "output_type": "execute_result"
    }
   ],
   "source": [
    "type(square_number)"
   ]
  },
  {
   "cell_type": "code",
   "execution_count": 5,
   "id": "ffc56a2a",
   "metadata": {},
   "outputs": [
    {
     "data": {
      "text/plain": [
       "8"
      ]
     },
     "execution_count": 5,
     "metadata": {},
     "output_type": "execute_result"
    }
   ],
   "source": [
    "(lambda x: x**3)(2)"
   ]
  },
  {
   "cell_type": "code",
   "execution_count": 6,
   "id": "a8161e7b",
   "metadata": {},
   "outputs": [
    {
     "data": {
      "text/plain": [
       "7"
      ]
     },
     "execution_count": 6,
     "metadata": {},
     "output_type": "execute_result"
    }
   ],
   "source": [
    "(lambda x,y: x if x > y else y)(5,7)"
   ]
  },
  {
   "cell_type": "code",
   "execution_count": 7,
   "id": "b292c5c0",
   "metadata": {},
   "outputs": [],
   "source": [
    "a = [3,4,5,1,2,8,7,6]"
   ]
  },
  {
   "cell_type": "code",
   "execution_count": 8,
   "id": "bafe4f0c",
   "metadata": {},
   "outputs": [],
   "source": [
    "_a = sorted(a)"
   ]
  },
  {
   "cell_type": "code",
   "execution_count": 9,
   "id": "28969db1",
   "metadata": {},
   "outputs": [
    {
     "data": {
      "text/plain": [
       "[1, 2, 3, 4, 5, 6, 7, 8]"
      ]
     },
     "execution_count": 9,
     "metadata": {},
     "output_type": "execute_result"
    }
   ],
   "source": [
    "_a"
   ]
  },
  {
   "cell_type": "code",
   "execution_count": 12,
   "id": "b5e778e0",
   "metadata": {},
   "outputs": [
    {
     "ename": "TypeError",
     "evalue": "'>' not supported between instances of 'dict' and 'dict'",
     "output_type": "error",
     "traceback": [
      "\u001b[0;31m---------------------------------------------------------------------------\u001b[0m",
      "\u001b[0;31mTypeError\u001b[0m                                 Traceback (most recent call last)",
      "\u001b[0;32m/var/folders/nn/c52y0d3j0gq59dpsswchkt2r0000gn/T/ipykernel_36736/675660041.py\u001b[0m in \u001b[0;36m<module>\u001b[0;34m\u001b[0m\n\u001b[0;32m----> 1\u001b[0;31m \u001b[0;34m{\u001b[0m\u001b[0;34m\"random\"\u001b[0m\u001b[0;34m:\u001b[0m \u001b[0;34m\"value\"\u001b[0m\u001b[0;34m}\u001b[0m \u001b[0;34m>\u001b[0m \u001b[0;34m{\u001b[0m\u001b[0;34m\"random\"\u001b[0m\u001b[0;34m:\u001b[0m \u001b[0;34m\"value2\"\u001b[0m\u001b[0;34m}\u001b[0m\u001b[0;34m\u001b[0m\u001b[0;34m\u001b[0m\u001b[0m\n\u001b[0m",
      "\u001b[0;31mTypeError\u001b[0m: '>' not supported between instances of 'dict' and 'dict'"
     ]
    }
   ],
   "source": [
    "{\"random\": \"value\"} > {\"random\": \"value2\"}"
   ]
  },
  {
   "cell_type": "code",
   "execution_count": 10,
   "id": "7b89031d",
   "metadata": {},
   "outputs": [],
   "source": [
    "students = [\n",
    "    {\"name\": \"A\", \"marks\": 50 },\n",
    "    {\"name\": \"B\", \"marks\": 90 },\n",
    "    {\"name\": \"C\", \"marks\": 80 },\n",
    "    {\"name\": \"D\", \"marks\": 40 },\n",
    "    {\"name\": \"E\", \"marks\": 60 },\n",
    "]"
   ]
  },
  {
   "cell_type": "code",
   "execution_count": 11,
   "id": "91fb80b0",
   "metadata": {},
   "outputs": [
    {
     "ename": "TypeError",
     "evalue": "'<' not supported between instances of 'dict' and 'dict'",
     "output_type": "error",
     "traceback": [
      "\u001b[0;31m---------------------------------------------------------------------------\u001b[0m",
      "\u001b[0;31mTypeError\u001b[0m                                 Traceback (most recent call last)",
      "\u001b[0;32m/var/folders/nn/c52y0d3j0gq59dpsswchkt2r0000gn/T/ipykernel_36736/645918957.py\u001b[0m in \u001b[0;36m<module>\u001b[0;34m\u001b[0m\n\u001b[0;32m----> 1\u001b[0;31m \u001b[0msorted\u001b[0m\u001b[0;34m(\u001b[0m\u001b[0mstudents\u001b[0m\u001b[0;34m)\u001b[0m\u001b[0;34m\u001b[0m\u001b[0;34m\u001b[0m\u001b[0m\n\u001b[0m",
      "\u001b[0;31mTypeError\u001b[0m: '<' not supported between instances of 'dict' and 'dict'"
     ]
    }
   ],
   "source": [
    "sorted(students)"
   ]
  },
  {
   "cell_type": "code",
   "execution_count": 14,
   "id": "12cac030",
   "metadata": {},
   "outputs": [
    {
     "data": {
      "text/plain": [
       "[{'name': 'D', 'marks': 40},\n",
       " {'name': 'A', 'marks': 50},\n",
       " {'name': 'E', 'marks': 60},\n",
       " {'name': 'C', 'marks': 80},\n",
       " {'name': 'B', 'marks': 90}]"
      ]
     },
     "execution_count": 14,
     "metadata": {},
     "output_type": "execute_result"
    }
   ],
   "source": [
    "sorted(students, key = lambda x: x[\"marks\"])"
   ]
  },
  {
   "cell_type": "markdown",
   "id": "d9ca0a9e",
   "metadata": {},
   "source": [
    "## Higher Order Functions"
   ]
  },
  {
   "cell_type": "code",
   "execution_count": 15,
   "id": "83a4c46f",
   "metadata": {},
   "outputs": [],
   "source": [
    "def gen_exp(n):\n",
    "    def exp(x):\n",
    "        return x**n\n",
    "    \n",
    "    return exp"
   ]
  },
  {
   "cell_type": "code",
   "execution_count": 16,
   "id": "d5403f4d",
   "metadata": {},
   "outputs": [],
   "source": [
    "exp_5 = gen_exp(5)"
   ]
  },
  {
   "cell_type": "code",
   "execution_count": 17,
   "id": "d1501a79",
   "metadata": {},
   "outputs": [],
   "source": [
    "exp_2 = gen_exp(2)"
   ]
  },
  {
   "cell_type": "code",
   "execution_count": 18,
   "id": "cd101745",
   "metadata": {},
   "outputs": [
    {
     "data": {
      "text/plain": [
       "4"
      ]
     },
     "execution_count": 18,
     "metadata": {},
     "output_type": "execute_result"
    }
   ],
   "source": [
    "exp_2(2)"
   ]
  },
  {
   "cell_type": "code",
   "execution_count": 19,
   "id": "b942642c",
   "metadata": {},
   "outputs": [
    {
     "data": {
      "text/plain": [
       "32"
      ]
     },
     "execution_count": 19,
     "metadata": {},
     "output_type": "execute_result"
    }
   ],
   "source": [
    "exp_5(2)"
   ]
  },
  {
   "cell_type": "markdown",
   "id": "3b1db08c",
   "metadata": {},
   "source": [
    "## Decorators"
   ]
  },
  {
   "cell_type": "code",
   "execution_count": 26,
   "id": "5594e2b4",
   "metadata": {},
   "outputs": [],
   "source": [
    "def say_hello():\n",
    "    print(\"-\"*20) # something before\n",
    "    print(\"Hello!\")\n",
    "    print(\"-\"*20) # something after\n",
    "\n",
    "def say_bye():\n",
    "    print(\"Bye!\")"
   ]
  },
  {
   "cell_type": "code",
   "execution_count": 27,
   "id": "f7d87e53",
   "metadata": {},
   "outputs": [
    {
     "name": "stdout",
     "output_type": "stream",
     "text": [
      "--------------------\n",
      "Hello!\n",
      "--------------------\n"
     ]
    }
   ],
   "source": [
    "say_hello()"
   ]
  },
  {
   "cell_type": "code",
   "execution_count": 28,
   "id": "f8ad029e",
   "metadata": {},
   "outputs": [
    {
     "name": "stdout",
     "output_type": "stream",
     "text": [
      "Bye!\n"
     ]
    }
   ],
   "source": [
    "say_bye()"
   ]
  },
  {
   "cell_type": "code",
   "execution_count": 29,
   "id": "3346ed2b",
   "metadata": {},
   "outputs": [],
   "source": [
    "def pretty(f):\n",
    "    def random():\n",
    "        print(\"-\"*20) # something before\n",
    "        f()\n",
    "        print(\"-\"*20) # something after\n",
    "        \n",
    "    return random"
   ]
  },
  {
   "cell_type": "code",
   "execution_count": 30,
   "id": "3d44840d",
   "metadata": {},
   "outputs": [],
   "source": [
    "say_bye = pretty(say_bye)"
   ]
  },
  {
   "cell_type": "code",
   "execution_count": 31,
   "id": "b2e7bcdc",
   "metadata": {},
   "outputs": [
    {
     "name": "stdout",
     "output_type": "stream",
     "text": [
      "--------------------\n",
      "Bye!\n",
      "--------------------\n"
     ]
    }
   ],
   "source": [
    "say_bye()"
   ]
  },
  {
   "cell_type": "code",
   "execution_count": 32,
   "id": "9cbed1d6",
   "metadata": {},
   "outputs": [],
   "source": [
    "@pretty\n",
    "def say_whatsup():\n",
    "    print(\"Whatsup?\")"
   ]
  },
  {
   "cell_type": "code",
   "execution_count": 33,
   "id": "a8a4368e",
   "metadata": {},
   "outputs": [
    {
     "name": "stdout",
     "output_type": "stream",
     "text": [
      "--------------------\n",
      "Whatsup?\n",
      "--------------------\n"
     ]
    }
   ],
   "source": [
    "say_whatsup()"
   ]
  },
  {
   "cell_type": "markdown",
   "id": "78e86703",
   "metadata": {},
   "source": [
    "## Map, Filter, Reduce and Zip"
   ]
  },
  {
   "cell_type": "code",
   "execution_count": 34,
   "id": "77334f60",
   "metadata": {},
   "outputs": [],
   "source": [
    "a = [1,2,3,4]"
   ]
  },
  {
   "cell_type": "code",
   "execution_count": 36,
   "id": "355dc31f",
   "metadata": {},
   "outputs": [],
   "source": [
    "m = map(lambda x: x**2, a)"
   ]
  },
  {
   "cell_type": "code",
   "execution_count": 37,
   "id": "1ecbb2fa",
   "metadata": {},
   "outputs": [
    {
     "data": {
      "text/plain": [
       "[1, 2, 3, 4]"
      ]
     },
     "execution_count": 37,
     "metadata": {},
     "output_type": "execute_result"
    }
   ],
   "source": [
    "a"
   ]
  },
  {
   "cell_type": "code",
   "execution_count": 39,
   "id": "bd5f8ec1",
   "metadata": {},
   "outputs": [
    {
     "data": {
      "text/plain": [
       "<map at 0x7f7bd0439c70>"
      ]
     },
     "execution_count": 39,
     "metadata": {},
     "output_type": "execute_result"
    }
   ],
   "source": [
    "m # generators"
   ]
  },
  {
   "cell_type": "code",
   "execution_count": 40,
   "id": "70deb4c8",
   "metadata": {},
   "outputs": [],
   "source": [
    "m_list = list(m)"
   ]
  },
  {
   "cell_type": "code",
   "execution_count": 41,
   "id": "8baa18ee",
   "metadata": {},
   "outputs": [
    {
     "data": {
      "text/plain": [
       "[1, 4, 9, 16]"
      ]
     },
     "execution_count": 41,
     "metadata": {},
     "output_type": "execute_result"
    }
   ],
   "source": [
    "m_list"
   ]
  },
  {
   "cell_type": "code",
   "execution_count": 42,
   "id": "852d47ef",
   "metadata": {},
   "outputs": [],
   "source": [
    "def logic(x):\n",
    "    if x % 2 == 0:\n",
    "        return x*2\n",
    "    else:\n",
    "        return 0"
   ]
  },
  {
   "cell_type": "code",
   "execution_count": 43,
   "id": "8a565963",
   "metadata": {},
   "outputs": [],
   "source": [
    "m1 = list(map(logic, a))"
   ]
  },
  {
   "cell_type": "code",
   "execution_count": 44,
   "id": "94da0cf2",
   "metadata": {},
   "outputs": [
    {
     "data": {
      "text/plain": [
       "[0, 4, 0, 8]"
      ]
     },
     "execution_count": 44,
     "metadata": {},
     "output_type": "execute_result"
    }
   ],
   "source": [
    "m1"
   ]
  },
  {
   "cell_type": "code",
   "execution_count": 45,
   "id": "07b2255c",
   "metadata": {},
   "outputs": [],
   "source": [
    "A = [1,2,3,4,5]\n",
    "B = [1,2,3,4,5]"
   ]
  },
  {
   "cell_type": "code",
   "execution_count": 46,
   "id": "828c61b5",
   "metadata": {},
   "outputs": [],
   "source": [
    "C = list(map(lambda x,y: x+y, A, B))"
   ]
  },
  {
   "cell_type": "code",
   "execution_count": 47,
   "id": "8f9689e7",
   "metadata": {},
   "outputs": [
    {
     "data": {
      "text/plain": [
       "[2, 4, 6, 8, 10]"
      ]
     },
     "execution_count": 47,
     "metadata": {},
     "output_type": "execute_result"
    }
   ],
   "source": [
    "C"
   ]
  },
  {
   "cell_type": "code",
   "execution_count": 48,
   "id": "d71e2db8",
   "metadata": {},
   "outputs": [],
   "source": [
    "a = [1,2,3,4,5]\n",
    "b = [1,2,3,4]"
   ]
  },
  {
   "cell_type": "code",
   "execution_count": 51,
   "id": "c2fe0cf8",
   "metadata": {},
   "outputs": [],
   "source": [
    "c = list(map(lambda x,y: x + y, a, b))"
   ]
  },
  {
   "cell_type": "code",
   "execution_count": 52,
   "id": "9c583b8e",
   "metadata": {},
   "outputs": [
    {
     "data": {
      "text/plain": [
       "[2, 4, 6, 8]"
      ]
     },
     "execution_count": 52,
     "metadata": {},
     "output_type": "execute_result"
    }
   ],
   "source": [
    "c"
   ]
  },
  {
   "cell_type": "code",
   "execution_count": 53,
   "id": "a86af27d",
   "metadata": {},
   "outputs": [],
   "source": [
    "a = [1,5,56,78,19,90,106,78,56,19,101]"
   ]
  },
  {
   "cell_type": "code",
   "execution_count": 55,
   "id": "6f710948",
   "metadata": {},
   "outputs": [],
   "source": [
    "b = list(filter(lambda x: x % 2 == 0, a))"
   ]
  },
  {
   "cell_type": "code",
   "execution_count": 56,
   "id": "d2a56099",
   "metadata": {},
   "outputs": [
    {
     "data": {
      "text/plain": [
       "[56, 78, 90, 106, 78, 56]"
      ]
     },
     "execution_count": 56,
     "metadata": {},
     "output_type": "execute_result"
    }
   ],
   "source": [
    "b"
   ]
  },
  {
   "cell_type": "code",
   "execution_count": 61,
   "id": "e0cb21b8",
   "metadata": {},
   "outputs": [],
   "source": [
    "a = [1,2,3]\n",
    "b = [\"a\", \"b\", \"c\", \"d\"]"
   ]
  },
  {
   "cell_type": "code",
   "execution_count": 62,
   "id": "5e024ce7",
   "metadata": {},
   "outputs": [],
   "source": [
    "c = list(zip(a,b))"
   ]
  },
  {
   "cell_type": "code",
   "execution_count": 63,
   "id": "2e33c133",
   "metadata": {},
   "outputs": [
    {
     "data": {
      "text/plain": [
       "[(1, 'a'), (2, 'b'), (3, 'c')]"
      ]
     },
     "execution_count": 63,
     "metadata": {},
     "output_type": "execute_result"
    }
   ],
   "source": [
    "c"
   ]
  },
  {
   "cell_type": "code",
   "execution_count": 64,
   "id": "aa5fcac4",
   "metadata": {},
   "outputs": [],
   "source": [
    "from functools import reduce"
   ]
  },
  {
   "cell_type": "code",
   "execution_count": 65,
   "id": "2a45d994",
   "metadata": {},
   "outputs": [],
   "source": [
    "a = [1,2,3,4,5]"
   ]
  },
  {
   "cell_type": "code",
   "execution_count": 66,
   "id": "b0051e3f",
   "metadata": {},
   "outputs": [],
   "source": [
    "value = reduce(lambda x, y: x + y, a)"
   ]
  },
  {
   "cell_type": "code",
   "execution_count": 67,
   "id": "aeee5c6a",
   "metadata": {},
   "outputs": [
    {
     "data": {
      "text/plain": [
       "15"
      ]
     },
     "execution_count": 67,
     "metadata": {},
     "output_type": "execute_result"
    }
   ],
   "source": [
    "value"
   ]
  },
  {
   "cell_type": "code",
   "execution_count": 68,
   "id": "3b19dc59",
   "metadata": {},
   "outputs": [],
   "source": [
    "a = [1,5,7,8,9,10,15,18,20]"
   ]
  },
  {
   "cell_type": "code",
   "execution_count": 69,
   "id": "2c4ef0fe",
   "metadata": {},
   "outputs": [],
   "source": [
    "max_value = reduce(lambda x, y: x if x > y else y, a)"
   ]
  },
  {
   "cell_type": "code",
   "execution_count": 70,
   "id": "e05356f8",
   "metadata": {},
   "outputs": [
    {
     "data": {
      "text/plain": [
       "20"
      ]
     },
     "execution_count": 70,
     "metadata": {},
     "output_type": "execute_result"
    }
   ],
   "source": [
    "max_value"
   ]
  },
  {
   "cell_type": "code",
   "execution_count": null,
   "id": "cab38fce",
   "metadata": {},
   "outputs": [],
   "source": []
  }
 ],
 "metadata": {
  "kernelspec": {
   "display_name": "Python 3 (ipykernel)",
   "language": "python",
   "name": "python3"
  },
  "language_info": {
   "codemirror_mode": {
    "name": "ipython",
    "version": 3
   },
   "file_extension": ".py",
   "mimetype": "text/x-python",
   "name": "python",
   "nbconvert_exporter": "python",
   "pygments_lexer": "ipython3",
   "version": "3.9.5"
  }
 },
 "nbformat": 4,
 "nbformat_minor": 5
}
