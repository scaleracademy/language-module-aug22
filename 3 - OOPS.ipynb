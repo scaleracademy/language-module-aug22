{
 "cells": [
  {
   "cell_type": "code",
   "execution_count": 1,
   "id": "b166bc6c",
   "metadata": {},
   "outputs": [
    {
     "data": {
      "text/plain": [
       "9"
      ]
     },
     "execution_count": 1,
     "metadata": {},
     "output_type": "execute_result"
    }
   ],
   "source": [
    "4 + 5"
   ]
  },
  {
   "cell_type": "code",
   "execution_count": 2,
   "id": "4659567e",
   "metadata": {},
   "outputs": [
    {
     "data": {
      "text/plain": [
       "'string1string2'"
      ]
     },
     "execution_count": 2,
     "metadata": {},
     "output_type": "execute_result"
    }
   ],
   "source": [
    "\"string1\" + \"string2\""
   ]
  },
  {
   "cell_type": "code",
   "execution_count": 3,
   "id": "e36eb7f5",
   "metadata": {},
   "outputs": [],
   "source": [
    "class ABC:\n",
    "    pass"
   ]
  },
  {
   "cell_type": "code",
   "execution_count": 4,
   "id": "e90978f9",
   "metadata": {},
   "outputs": [],
   "source": [
    "a = ABC()"
   ]
  },
  {
   "cell_type": "code",
   "execution_count": 5,
   "id": "e05dcb34",
   "metadata": {},
   "outputs": [
    {
     "data": {
      "text/plain": [
       "__main__.ABC"
      ]
     },
     "execution_count": 5,
     "metadata": {},
     "output_type": "execute_result"
    }
   ],
   "source": [
    "type(a)"
   ]
  },
  {
   "cell_type": "code",
   "execution_count": 6,
   "id": "5073d225",
   "metadata": {},
   "outputs": [
    {
     "data": {
      "text/plain": [
       "True"
      ]
     },
     "execution_count": 6,
     "metadata": {},
     "output_type": "execute_result"
    }
   ],
   "source": [
    "isinstance(ABC, object)"
   ]
  },
  {
   "cell_type": "code",
   "execution_count": 7,
   "id": "bcae6bca",
   "metadata": {},
   "outputs": [],
   "source": [
    "class A:\n",
    "    pass"
   ]
  },
  {
   "cell_type": "code",
   "execution_count": 8,
   "id": "97154ca8",
   "metadata": {},
   "outputs": [],
   "source": [
    "a = A()"
   ]
  },
  {
   "cell_type": "code",
   "execution_count": 9,
   "id": "2ba35dfd",
   "metadata": {},
   "outputs": [],
   "source": [
    "a.random = \"this is a random variable\""
   ]
  },
  {
   "cell_type": "code",
   "execution_count": 10,
   "id": "a7b6930e",
   "metadata": {},
   "outputs": [],
   "source": [
    "b = A()"
   ]
  },
  {
   "cell_type": "code",
   "execution_count": 11,
   "id": "d80d0cad",
   "metadata": {},
   "outputs": [
    {
     "ename": "AttributeError",
     "evalue": "'A' object has no attribute 'random'",
     "output_type": "error",
     "traceback": [
      "\u001b[0;31m---------------------------------------------------------------------------\u001b[0m",
      "\u001b[0;31mAttributeError\u001b[0m                            Traceback (most recent call last)",
      "\u001b[0;32m/var/folders/nn/c52y0d3j0gq59dpsswchkt2r0000gn/T/ipykernel_9283/1023653897.py\u001b[0m in \u001b[0;36m<module>\u001b[0;34m\u001b[0m\n\u001b[0;32m----> 1\u001b[0;31m \u001b[0mb\u001b[0m\u001b[0;34m.\u001b[0m\u001b[0mrandom\u001b[0m\u001b[0;34m\u001b[0m\u001b[0;34m\u001b[0m\u001b[0m\n\u001b[0m",
      "\u001b[0;31mAttributeError\u001b[0m: 'A' object has no attribute 'random'"
     ]
    }
   ],
   "source": [
    "b.random"
   ]
  },
  {
   "cell_type": "code",
   "execution_count": 13,
   "id": "0b97d56e",
   "metadata": {},
   "outputs": [],
   "source": [
    "class Random:\n",
    "    def __init__(self):\n",
    "        print(id(self))"
   ]
  },
  {
   "cell_type": "code",
   "execution_count": 14,
   "id": "82edbf7b",
   "metadata": {},
   "outputs": [
    {
     "name": "stdout",
     "output_type": "stream",
     "text": [
      "140591346862880\n"
     ]
    }
   ],
   "source": [
    "r = Random()\n",
    "# Random.__init__(r)"
   ]
  },
  {
   "cell_type": "code",
   "execution_count": 15,
   "id": "54a6f29e",
   "metadata": {},
   "outputs": [
    {
     "data": {
      "text/plain": [
       "140591346862880"
      ]
     },
     "execution_count": 15,
     "metadata": {},
     "output_type": "execute_result"
    }
   ],
   "source": [
    "id(r)"
   ]
  },
  {
   "cell_type": "code",
   "execution_count": 35,
   "id": "9f9f4e51",
   "metadata": {},
   "outputs": [],
   "source": [
    "class Student:\n",
    "    def hello(anything_at_all, a, b): # by convention use \"self\"\n",
    "        print(\"Hello!\")"
   ]
  },
  {
   "cell_type": "code",
   "execution_count": 36,
   "id": "fc5768db",
   "metadata": {},
   "outputs": [],
   "source": [
    "s = Student()"
   ]
  },
  {
   "cell_type": "code",
   "execution_count": 40,
   "id": "a82ec219",
   "metadata": {},
   "outputs": [
    {
     "ename": "TypeError",
     "evalue": "hello() missing 1 required positional argument: 'b'",
     "output_type": "error",
     "traceback": [
      "\u001b[0;31m---------------------------------------------------------------------------\u001b[0m",
      "\u001b[0;31mTypeError\u001b[0m                                 Traceback (most recent call last)",
      "\u001b[0;32m/var/folders/nn/c52y0d3j0gq59dpsswchkt2r0000gn/T/ipykernel_9283/367666665.py\u001b[0m in \u001b[0;36m<module>\u001b[0;34m\u001b[0m\n\u001b[0;32m----> 1\u001b[0;31m \u001b[0ms\u001b[0m\u001b[0;34m.\u001b[0m\u001b[0mhello\u001b[0m\u001b[0;34m(\u001b[0m\u001b[0;34m\"a\"\u001b[0m\u001b[0;34m)\u001b[0m\u001b[0;34m\u001b[0m\u001b[0;34m\u001b[0m\u001b[0m\n\u001b[0m\u001b[1;32m      2\u001b[0m \u001b[0;31m# Student.hello(s)\u001b[0m\u001b[0;34m\u001b[0m\u001b[0;34m\u001b[0m\u001b[0;34m\u001b[0m\u001b[0m\n",
      "\u001b[0;31mTypeError\u001b[0m: hello() missing 1 required positional argument: 'b'"
     ]
    }
   ],
   "source": [
    "s.hello(\"a\")\n",
    "# Student.hello(s)"
   ]
  },
  {
   "cell_type": "code",
   "execution_count": 42,
   "id": "8917bd05",
   "metadata": {},
   "outputs": [],
   "source": [
    "class Student:\n",
    "    def __init__(self, name, class_name):\n",
    "        self.name = name\n",
    "        self.class_name = class_name"
   ]
  },
  {
   "cell_type": "code",
   "execution_count": 43,
   "id": "a136fca5",
   "metadata": {},
   "outputs": [],
   "source": [
    "s1 = Student(\"Mradul\", 12)"
   ]
  },
  {
   "cell_type": "code",
   "execution_count": 44,
   "id": "f617af11",
   "metadata": {},
   "outputs": [
    {
     "data": {
      "text/plain": [
       "'Mradul'"
      ]
     },
     "execution_count": 44,
     "metadata": {},
     "output_type": "execute_result"
    }
   ],
   "source": [
    "s1.name"
   ]
  },
  {
   "cell_type": "code",
   "execution_count": 45,
   "id": "df029189",
   "metadata": {},
   "outputs": [
    {
     "data": {
      "text/plain": [
       "12"
      ]
     },
     "execution_count": 45,
     "metadata": {},
     "output_type": "execute_result"
    }
   ],
   "source": [
    "s1.class_name"
   ]
  },
  {
   "cell_type": "code",
   "execution_count": 46,
   "id": "cf1c7a0f",
   "metadata": {},
   "outputs": [],
   "source": [
    "s2 = Student(\"Bipin\", 12)"
   ]
  },
  {
   "cell_type": "code",
   "execution_count": 47,
   "id": "46eaaa9e",
   "metadata": {},
   "outputs": [
    {
     "data": {
      "text/plain": [
       "'Bipin'"
      ]
     },
     "execution_count": 47,
     "metadata": {},
     "output_type": "execute_result"
    }
   ],
   "source": [
    "s2.name"
   ]
  },
  {
   "cell_type": "code",
   "execution_count": 48,
   "id": "a758cf4d",
   "metadata": {},
   "outputs": [],
   "source": [
    "s2.extra_property = \"random\""
   ]
  },
  {
   "cell_type": "code",
   "execution_count": 49,
   "id": "7a474ba6",
   "metadata": {},
   "outputs": [
    {
     "data": {
      "text/plain": [
       "'random'"
      ]
     },
     "execution_count": 49,
     "metadata": {},
     "output_type": "execute_result"
    }
   ],
   "source": [
    "s2.extra_property"
   ]
  },
  {
   "cell_type": "code",
   "execution_count": 50,
   "id": "d5bc6031",
   "metadata": {},
   "outputs": [
    {
     "ename": "AttributeError",
     "evalue": "'Student' object has no attribute 'extra_property'",
     "output_type": "error",
     "traceback": [
      "\u001b[0;31m---------------------------------------------------------------------------\u001b[0m",
      "\u001b[0;31mAttributeError\u001b[0m                            Traceback (most recent call last)",
      "\u001b[0;32m/var/folders/nn/c52y0d3j0gq59dpsswchkt2r0000gn/T/ipykernel_9283/3251948294.py\u001b[0m in \u001b[0;36m<module>\u001b[0;34m\u001b[0m\n\u001b[0;32m----> 1\u001b[0;31m \u001b[0ms1\u001b[0m\u001b[0;34m.\u001b[0m\u001b[0mextra_property\u001b[0m\u001b[0;34m\u001b[0m\u001b[0;34m\u001b[0m\u001b[0m\n\u001b[0m",
      "\u001b[0;31mAttributeError\u001b[0m: 'Student' object has no attribute 'extra_property'"
     ]
    }
   ],
   "source": [
    "s1.extra_property"
   ]
  },
  {
   "cell_type": "code",
   "execution_count": 52,
   "id": "db7ba60e",
   "metadata": {},
   "outputs": [],
   "source": [
    "class Dog:\n",
    "    kind = \"labra\" # class variable - variables shared by all objects of a class\n",
    "    \n",
    "    def __init__(self, name):\n",
    "        self.name = name # instance variables - variables created for objects"
   ]
  },
  {
   "cell_type": "code",
   "execution_count": 53,
   "id": "e4aad702",
   "metadata": {},
   "outputs": [],
   "source": [
    "d1 = Dog(\"tuffy\")"
   ]
  },
  {
   "cell_type": "code",
   "execution_count": 54,
   "id": "03a86186",
   "metadata": {},
   "outputs": [],
   "source": [
    "d2 = Dog(\"scooby\")"
   ]
  },
  {
   "cell_type": "code",
   "execution_count": 55,
   "id": "ea543484",
   "metadata": {},
   "outputs": [
    {
     "data": {
      "text/plain": [
       "'tuffy'"
      ]
     },
     "execution_count": 55,
     "metadata": {},
     "output_type": "execute_result"
    }
   ],
   "source": [
    "d1.name"
   ]
  },
  {
   "cell_type": "code",
   "execution_count": 56,
   "id": "9f7248f4",
   "metadata": {},
   "outputs": [
    {
     "data": {
      "text/plain": [
       "'scooby'"
      ]
     },
     "execution_count": 56,
     "metadata": {},
     "output_type": "execute_result"
    }
   ],
   "source": [
    "d2.name"
   ]
  },
  {
   "cell_type": "code",
   "execution_count": 57,
   "id": "51763b3a",
   "metadata": {},
   "outputs": [
    {
     "data": {
      "text/plain": [
       "'labra'"
      ]
     },
     "execution_count": 57,
     "metadata": {},
     "output_type": "execute_result"
    }
   ],
   "source": [
    "d1.kind"
   ]
  },
  {
   "cell_type": "code",
   "execution_count": 58,
   "id": "2cc6495a",
   "metadata": {},
   "outputs": [
    {
     "data": {
      "text/plain": [
       "'labra'"
      ]
     },
     "execution_count": 58,
     "metadata": {},
     "output_type": "execute_result"
    }
   ],
   "source": [
    "d2.kind"
   ]
  },
  {
   "cell_type": "code",
   "execution_count": 59,
   "id": "0ab67da8",
   "metadata": {},
   "outputs": [
    {
     "data": {
      "text/plain": [
       "'labra'"
      ]
     },
     "execution_count": 59,
     "metadata": {},
     "output_type": "execute_result"
    }
   ],
   "source": [
    "Dog.kind"
   ]
  },
  {
   "cell_type": "code",
   "execution_count": 61,
   "id": "4b11b5f7",
   "metadata": {},
   "outputs": [],
   "source": [
    "d1.kind = \"German Shepherd\""
   ]
  },
  {
   "cell_type": "code",
   "execution_count": 62,
   "id": "745ab9f6",
   "metadata": {},
   "outputs": [
    {
     "data": {
      "text/plain": [
       "'labra'"
      ]
     },
     "execution_count": 62,
     "metadata": {},
     "output_type": "execute_result"
    }
   ],
   "source": [
    "d2.kind"
   ]
  },
  {
   "cell_type": "code",
   "execution_count": 63,
   "id": "a31195ca",
   "metadata": {},
   "outputs": [
    {
     "data": {
      "text/plain": [
       "'labra'"
      ]
     },
     "execution_count": 63,
     "metadata": {},
     "output_type": "execute_result"
    }
   ],
   "source": [
    "Dog.kind"
   ]
  },
  {
   "cell_type": "code",
   "execution_count": 64,
   "id": "7f010184",
   "metadata": {},
   "outputs": [
    {
     "data": {
      "text/plain": [
       "'German Shepherd'"
      ]
     },
     "execution_count": 64,
     "metadata": {},
     "output_type": "execute_result"
    }
   ],
   "source": [
    "d1.kind"
   ]
  },
  {
   "cell_type": "code",
   "execution_count": 65,
   "id": "556d6ce2",
   "metadata": {},
   "outputs": [],
   "source": [
    "d1.new_variable = \"random\""
   ]
  },
  {
   "cell_type": "code",
   "execution_count": 72,
   "id": "5d58ccdd",
   "metadata": {},
   "outputs": [],
   "source": [
    "class Dog:\n",
    "    tricks = [] # when objects are mutable - they always remain shared!\n",
    "    \n",
    "    def __init__(self, name):\n",
    "        self.name = name\n",
    "        \n",
    "    def teach_trick(self, trick):\n",
    "        self.tricks.append(trick)"
   ]
  },
  {
   "cell_type": "code",
   "execution_count": 73,
   "id": "1a8eb0f9",
   "metadata": {},
   "outputs": [],
   "source": [
    "d1 = Dog(\"tuffy\")\n",
    "d2 = Dog(\"scooby\")"
   ]
  },
  {
   "cell_type": "code",
   "execution_count": 74,
   "id": "e3d132a1",
   "metadata": {},
   "outputs": [],
   "source": [
    "d1.teach_trick(\"jump\")"
   ]
  },
  {
   "cell_type": "code",
   "execution_count": 75,
   "id": "3eb7eb3c",
   "metadata": {},
   "outputs": [
    {
     "data": {
      "text/plain": [
       "['jump']"
      ]
     },
     "execution_count": 75,
     "metadata": {},
     "output_type": "execute_result"
    }
   ],
   "source": [
    "d1.tricks"
   ]
  },
  {
   "cell_type": "code",
   "execution_count": 76,
   "id": "850ab725",
   "metadata": {},
   "outputs": [
    {
     "data": {
      "text/plain": [
       "['jump']"
      ]
     },
     "execution_count": 76,
     "metadata": {},
     "output_type": "execute_result"
    }
   ],
   "source": [
    "d2.tricks"
   ]
  },
  {
   "cell_type": "code",
   "execution_count": 77,
   "id": "64725374",
   "metadata": {},
   "outputs": [
    {
     "data": {
      "text/plain": [
       "['jump']"
      ]
     },
     "execution_count": 77,
     "metadata": {},
     "output_type": "execute_result"
    }
   ],
   "source": [
    "Dog.tricks"
   ]
  },
  {
   "cell_type": "code",
   "execution_count": 96,
   "id": "c046d2f6",
   "metadata": {},
   "outputs": [],
   "source": [
    "class Car:\n",
    "    def __init__(self, name, milaege):\n",
    "        self.name = name\n",
    "        self.milaege = milaege\n",
    "        \n",
    "    def __str__(self):\n",
    "        return f\"{self.name} -> {self.milaege}\"\n",
    "    \n",
    "    def __add__(self, other):\n",
    "        return self.name + other.name\n",
    "    \n",
    "#     def __call__(self):\n",
    "#         print(\"I JUST GOT CALLED DAMNNNNNN!!\")"
   ]
  },
  {
   "cell_type": "code",
   "execution_count": 97,
   "id": "bfada3de",
   "metadata": {},
   "outputs": [],
   "source": [
    "c1 = Car(\"Nexon\", 13)\n",
    "c2 = Car(\"Altroz\", 15)"
   ]
  },
  {
   "cell_type": "code",
   "execution_count": 98,
   "id": "9c7f1405",
   "metadata": {},
   "outputs": [
    {
     "name": "stdout",
     "output_type": "stream",
     "text": [
      "Nexon -> 13\n"
     ]
    }
   ],
   "source": [
    "print(c1) # printing is a behaviour in python"
   ]
  },
  {
   "cell_type": "code",
   "execution_count": 99,
   "id": "749b3a87",
   "metadata": {},
   "outputs": [
    {
     "data": {
      "text/plain": [
       "'NexonAltroz'"
      ]
     },
     "execution_count": 99,
     "metadata": {},
     "output_type": "execute_result"
    }
   ],
   "source": [
    "c1 + c2"
   ]
  },
  {
   "cell_type": "code",
   "execution_count": 100,
   "id": "5226325c",
   "metadata": {},
   "outputs": [
    {
     "ename": "TypeError",
     "evalue": "'Car' object is not callable",
     "output_type": "error",
     "traceback": [
      "\u001b[0;31m---------------------------------------------------------------------------\u001b[0m",
      "\u001b[0;31mTypeError\u001b[0m                                 Traceback (most recent call last)",
      "\u001b[0;32m/var/folders/nn/c52y0d3j0gq59dpsswchkt2r0000gn/T/ipykernel_9283/1468858914.py\u001b[0m in \u001b[0;36m<module>\u001b[0;34m\u001b[0m\n\u001b[0;32m----> 1\u001b[0;31m \u001b[0mc1\u001b[0m\u001b[0;34m(\u001b[0m\u001b[0;34m)\u001b[0m\u001b[0;34m\u001b[0m\u001b[0;34m\u001b[0m\u001b[0m\n\u001b[0m",
      "\u001b[0;31mTypeError\u001b[0m: 'Car' object is not callable"
     ]
    }
   ],
   "source": [
    "c1()"
   ]
  },
  {
   "cell_type": "code",
   "execution_count": 95,
   "id": "445aa5c1",
   "metadata": {},
   "outputs": [
    {
     "name": "stdout",
     "output_type": "stream",
     "text": [
      "I JUST GOT CALLED DAMNNNNNN!!\n"
     ]
    }
   ],
   "source": [
    "c2()"
   ]
  },
  {
   "cell_type": "code",
   "execution_count": 101,
   "id": "9f565395",
   "metadata": {},
   "outputs": [],
   "source": [
    "# << left shift operator"
   ]
  },
  {
   "cell_type": "code",
   "execution_count": 102,
   "id": "1cdcf1d6",
   "metadata": {},
   "outputs": [
    {
     "ename": "NameError",
     "evalue": "name 'cout' is not defined",
     "output_type": "error",
     "traceback": [
      "\u001b[0;31m---------------------------------------------------------------------------\u001b[0m",
      "\u001b[0;31mNameError\u001b[0m                                 Traceback (most recent call last)",
      "\u001b[0;32m/var/folders/nn/c52y0d3j0gq59dpsswchkt2r0000gn/T/ipykernel_9283/3464879101.py\u001b[0m in \u001b[0;36m<module>\u001b[0;34m\u001b[0m\n\u001b[0;32m----> 1\u001b[0;31m \u001b[0mcout\u001b[0m \u001b[0;34m<<\u001b[0m \u001b[0;34m\"Hello World!\"\u001b[0m\u001b[0;34m\u001b[0m\u001b[0;34m\u001b[0m\u001b[0m\n\u001b[0m",
      "\u001b[0;31mNameError\u001b[0m: name 'cout' is not defined"
     ]
    }
   ],
   "source": [
    "cout << \"Hello World!\""
   ]
  },
  {
   "cell_type": "code",
   "execution_count": 111,
   "id": "e6f4ac9a",
   "metadata": {},
   "outputs": [],
   "source": [
    "class Printer:\n",
    "    def __lshift__(self, other):\n",
    "        print(other, end=\" \")\n",
    "        \n",
    "        return self"
   ]
  },
  {
   "cell_type": "code",
   "execution_count": 112,
   "id": "107de0e9",
   "metadata": {},
   "outputs": [],
   "source": [
    "cout = Printer()"
   ]
  },
  {
   "cell_type": "code",
   "execution_count": 113,
   "id": "9dbf434d",
   "metadata": {},
   "outputs": [
    {
     "name": "stdout",
     "output_type": "stream",
     "text": [
      "WOW! THIS IS JUST CRAZY NOW! WHAT? ARE? DOING? "
     ]
    },
    {
     "data": {
      "text/plain": [
       "<__main__.Printer at 0x7fddf9c6adf0>"
      ]
     },
     "execution_count": 113,
     "metadata": {},
     "output_type": "execute_result"
    }
   ],
   "source": [
    "cout << \"WOW!\" << \"THIS IS JUST CRAZY NOW!\" << \"WHAT?\" << \"ARE?\" << \"DOING?\""
   ]
  },
  {
   "cell_type": "code",
   "execution_count": 114,
   "id": "95bdc6d3",
   "metadata": {},
   "outputs": [],
   "source": [
    "# DRY - Don't Repeat Yourself"
   ]
  },
  {
   "cell_type": "code",
   "execution_count": 132,
   "id": "7768650f",
   "metadata": {},
   "outputs": [],
   "source": [
    "class SchoolMember:\n",
    "    def __init__(self, name):\n",
    "        self.name = name\n",
    "\n",
    "class Staff(SchoolMember):\n",
    "    def __init__(self, name, salary):\n",
    "        self.salary = salary\n",
    "        super().__init__(name)\n",
    "\n",
    "class Teacher(Staff):\n",
    "    def __init__(self, name, salary, subject):\n",
    "        self.subject = subject\n",
    "        # super() is a reference to the parent class\n",
    "        super().__init__(name, salary)\n",
    "\n",
    "class Student(SchoolMember):\n",
    "    def __init__(self, name, grade):\n",
    "        self.grade = grade\n",
    "        super().__init__(name)\n",
    "        # SchoolMember.__init__(self, name)"
   ]
  },
  {
   "cell_type": "code",
   "execution_count": 133,
   "id": "a9b6fc65",
   "metadata": {},
   "outputs": [],
   "source": [
    "t1 = Teacher(\"Bipin Kalra\", 10, \"Python\")"
   ]
  },
  {
   "cell_type": "code",
   "execution_count": 134,
   "id": "0f10e527",
   "metadata": {},
   "outputs": [
    {
     "data": {
      "text/plain": [
       "'Bipin Kalra'"
      ]
     },
     "execution_count": 134,
     "metadata": {},
     "output_type": "execute_result"
    }
   ],
   "source": [
    "t1.name"
   ]
  },
  {
   "cell_type": "code",
   "execution_count": 135,
   "id": "340b4e84",
   "metadata": {},
   "outputs": [
    {
     "data": {
      "text/plain": [
       "10"
      ]
     },
     "execution_count": 135,
     "metadata": {},
     "output_type": "execute_result"
    }
   ],
   "source": [
    "t1.salary"
   ]
  },
  {
   "cell_type": "code",
   "execution_count": 136,
   "id": "cac13e12",
   "metadata": {},
   "outputs": [
    {
     "data": {
      "text/plain": [
       "'Python'"
      ]
     },
     "execution_count": 136,
     "metadata": {},
     "output_type": "execute_result"
    }
   ],
   "source": [
    "t1.subject"
   ]
  },
  {
   "cell_type": "code",
   "execution_count": 137,
   "id": "30dc2d2a",
   "metadata": {},
   "outputs": [],
   "source": [
    "class BankAccount:\n",
    "    def __init__(self, balance):\n",
    "        self.balance = balance\n",
    "        \n",
    "    def withdraw(self, amount):\n",
    "        self.balance -= amount\n",
    "        \n",
    "    def deposit(self, amount):\n",
    "        self.balance += amount"
   ]
  },
  {
   "cell_type": "code",
   "execution_count": 138,
   "id": "ce076f9a",
   "metadata": {},
   "outputs": [],
   "source": [
    "b1 = BankAccount(10000)"
   ]
  },
  {
   "cell_type": "code",
   "execution_count": 139,
   "id": "c57d6ce1",
   "metadata": {},
   "outputs": [],
   "source": [
    "b1.deposit(5000)"
   ]
  },
  {
   "cell_type": "code",
   "execution_count": 140,
   "id": "51b314ee",
   "metadata": {},
   "outputs": [],
   "source": [
    "b1.withdraw(15000)"
   ]
  },
  {
   "cell_type": "code",
   "execution_count": 141,
   "id": "761c3490",
   "metadata": {},
   "outputs": [
    {
     "data": {
      "text/plain": [
       "0"
      ]
     },
     "execution_count": 141,
     "metadata": {},
     "output_type": "execute_result"
    }
   ],
   "source": [
    "b1.balance"
   ]
  },
  {
   "cell_type": "code",
   "execution_count": 142,
   "id": "ca49cf12",
   "metadata": {},
   "outputs": [],
   "source": [
    "b1.balance = 3456876543234567898765434567898765432"
   ]
  },
  {
   "cell_type": "code",
   "execution_count": 144,
   "id": "f3c0861b",
   "metadata": {},
   "outputs": [],
   "source": [
    "class BankAccount:\n",
    "    def __init__(self, balance):\n",
    "        self.__balance = balance # _ClassName__variable_name\n",
    "        \n",
    "    def withdraw(self, amount):\n",
    "        self.__balance -= amount\n",
    "        \n",
    "    def deposit(self, amount):\n",
    "        self.__balance += amount\n",
    "    \n",
    "    def check_balance(self):\n",
    "        return self.__balance"
   ]
  },
  {
   "cell_type": "code",
   "execution_count": 145,
   "id": "8bbffcbd",
   "metadata": {},
   "outputs": [],
   "source": [
    "b1 = BankAccount(10000)"
   ]
  },
  {
   "cell_type": "code",
   "execution_count": 146,
   "id": "ce141ea0",
   "metadata": {},
   "outputs": [],
   "source": [
    "b1.deposit(15000)"
   ]
  },
  {
   "cell_type": "code",
   "execution_count": 147,
   "id": "e46f3171",
   "metadata": {},
   "outputs": [
    {
     "ename": "AttributeError",
     "evalue": "'BankAccount' object has no attribute 'balance'",
     "output_type": "error",
     "traceback": [
      "\u001b[0;31m---------------------------------------------------------------------------\u001b[0m",
      "\u001b[0;31mAttributeError\u001b[0m                            Traceback (most recent call last)",
      "\u001b[0;32m/var/folders/nn/c52y0d3j0gq59dpsswchkt2r0000gn/T/ipykernel_9283/4170300072.py\u001b[0m in \u001b[0;36m<module>\u001b[0;34m\u001b[0m\n\u001b[0;32m----> 1\u001b[0;31m \u001b[0mb1\u001b[0m\u001b[0;34m.\u001b[0m\u001b[0mbalance\u001b[0m\u001b[0;34m\u001b[0m\u001b[0;34m\u001b[0m\u001b[0m\n\u001b[0m",
      "\u001b[0;31mAttributeError\u001b[0m: 'BankAccount' object has no attribute 'balance'"
     ]
    }
   ],
   "source": [
    "b1.balance"
   ]
  },
  {
   "cell_type": "code",
   "execution_count": 148,
   "id": "23501f76",
   "metadata": {},
   "outputs": [
    {
     "ename": "AttributeError",
     "evalue": "'BankAccount' object has no attribute '__balance'",
     "output_type": "error",
     "traceback": [
      "\u001b[0;31m---------------------------------------------------------------------------\u001b[0m",
      "\u001b[0;31mAttributeError\u001b[0m                            Traceback (most recent call last)",
      "\u001b[0;32m/var/folders/nn/c52y0d3j0gq59dpsswchkt2r0000gn/T/ipykernel_9283/2775405839.py\u001b[0m in \u001b[0;36m<module>\u001b[0;34m\u001b[0m\n\u001b[0;32m----> 1\u001b[0;31m \u001b[0mb1\u001b[0m\u001b[0;34m.\u001b[0m\u001b[0m__balance\u001b[0m\u001b[0;34m\u001b[0m\u001b[0;34m\u001b[0m\u001b[0m\n\u001b[0m",
      "\u001b[0;31mAttributeError\u001b[0m: 'BankAccount' object has no attribute '__balance'"
     ]
    }
   ],
   "source": [
    "b1.__balance"
   ]
  },
  {
   "cell_type": "code",
   "execution_count": 149,
   "id": "2f1e836f",
   "metadata": {},
   "outputs": [
    {
     "data": {
      "text/plain": [
       "25000"
      ]
     },
     "execution_count": 149,
     "metadata": {},
     "output_type": "execute_result"
    }
   ],
   "source": [
    "b1.check_balance()"
   ]
  },
  {
   "cell_type": "code",
   "execution_count": 151,
   "id": "ffbc66fb",
   "metadata": {},
   "outputs": [],
   "source": [
    "b1.__balance = 456787654345678765434567876543"
   ]
  },
  {
   "cell_type": "code",
   "execution_count": 152,
   "id": "9222e512",
   "metadata": {},
   "outputs": [
    {
     "data": {
      "text/plain": [
       "456787654345678765434567876543"
      ]
     },
     "execution_count": 152,
     "metadata": {},
     "output_type": "execute_result"
    }
   ],
   "source": [
    "b1.__balance"
   ]
  },
  {
   "cell_type": "code",
   "execution_count": 153,
   "id": "e445a2ba",
   "metadata": {},
   "outputs": [
    {
     "data": {
      "text/plain": [
       "25000"
      ]
     },
     "execution_count": 153,
     "metadata": {},
     "output_type": "execute_result"
    }
   ],
   "source": [
    "b1.check_balance()"
   ]
  },
  {
   "cell_type": "code",
   "execution_count": 154,
   "id": "05a89330",
   "metadata": {},
   "outputs": [
    {
     "data": {
      "text/plain": [
       "25000"
      ]
     },
     "execution_count": 154,
     "metadata": {},
     "output_type": "execute_result"
    }
   ],
   "source": [
    "b1._BankAccount__balance"
   ]
  },
  {
   "cell_type": "code",
   "execution_count": 1,
   "id": "e1038e9e",
   "metadata": {},
   "outputs": [],
   "source": [
    "class A:\n",
    "    pass\n",
    "\n",
    "class B:\n",
    "    pass\n",
    "\n",
    "class C(A, B):\n",
    "    pass"
   ]
  },
  {
   "cell_type": "code",
   "execution_count": 12,
   "id": "172e9f42",
   "metadata": {},
   "outputs": [],
   "source": [
    "# Diamond Inheritence\n",
    "\n",
    "class A:\n",
    "    pass\n",
    "\n",
    "class B(A):\n",
    "    pass\n",
    "\n",
    "class C(B):\n",
    "    x = 10\n",
    "    \n",
    "class D(A):\n",
    "    x = 5\n",
    "    \n",
    "class E(C,D):\n",
    "    pass"
   ]
  },
  {
   "cell_type": "code",
   "execution_count": 13,
   "id": "d0a74264",
   "metadata": {},
   "outputs": [],
   "source": [
    "e = E()"
   ]
  },
  {
   "cell_type": "code",
   "execution_count": 14,
   "id": "9abe692f",
   "metadata": {},
   "outputs": [
    {
     "data": {
      "text/plain": [
       "10"
      ]
     },
     "execution_count": 14,
     "metadata": {},
     "output_type": "execute_result"
    }
   ],
   "source": [
    "e.x"
   ]
  },
  {
   "cell_type": "code",
   "execution_count": 15,
   "id": "6965cb11",
   "metadata": {},
   "outputs": [
    {
     "data": {
      "text/plain": [
       "(__main__.E, __main__.C, __main__.B, __main__.D, __main__.A, object)"
      ]
     },
     "execution_count": 15,
     "metadata": {},
     "output_type": "execute_result"
    }
   ],
   "source": [
    "E.__mro__"
   ]
  },
  {
   "cell_type": "code",
   "execution_count": null,
   "id": "e000a5da",
   "metadata": {},
   "outputs": [],
   "source": []
  }
 ],
 "metadata": {
  "kernelspec": {
   "display_name": "Python 3 (ipykernel)",
   "language": "python",
   "name": "python3"
  },
  "language_info": {
   "codemirror_mode": {
    "name": "ipython",
    "version": 3
   },
   "file_extension": ".py",
   "mimetype": "text/x-python",
   "name": "python",
   "nbconvert_exporter": "python",
   "pygments_lexer": "ipython3",
   "version": "3.9.5"
  }
 },
 "nbformat": 4,
 "nbformat_minor": 5
}
